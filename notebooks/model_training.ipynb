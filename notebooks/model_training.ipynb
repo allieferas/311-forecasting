{
 "cells": [
  {
   "cell_type": "code",
   "execution_count": 22,
   "metadata": {},
   "outputs": [],
   "source": [
    "import pandas as pd\n",
    "import numpy as np\n",
    "import seaborn as sns\n",
    "import matplotlib.pyplot as plt\n",
    "from utils import *\n",
    "from statsmodels.tsa.statespace.sarimax import SARIMAX\n",
    "from sklearn.metrics import root_mean_squared_error\n",
    "import joblib\n",
    "import os"
   ]
  },
  {
   "cell_type": "code",
   "execution_count": 19,
   "metadata": {},
   "outputs": [],
   "source": [
    "files = os.listdir('../data/out')\n",
    "model_names = set([\"_\".join(f.split(\"_\")[0:-1]) for f in files])\n",
    "params = pd.read_csv('../models/hyperparameters.csv').set_index('model_name')\n",
    "season = 52 # annual seasonality on weekly data"
   ]
  },
  {
   "cell_type": "code",
   "execution_count": null,
   "metadata": {},
   "outputs": [],
   "source": [
    "for name in model_names:\n",
    "    train_df = pd.read_csv(f'../data/out/{name}_train.csv').assign(week_start = lambda x: pd.to_datetime(x['week_start'])).set_index('week_start')\n",
    "    test_df = pd.read_csv(f'../data/out/{name}_test.csv').assign(week_start = lambda x: pd.to_datetime(x['week_start'])).set_index('week_start')\n",
    "    model_params = params.loc[name]\n",
    "    order = tuple(model_params[['p', 'd', 'q']])\n",
    "    seasonal_order = tuple(model_params[['P', 'D', 'Q']]) + (season,)\n",
    "    # Create and train SARIMAX model\n",
    "    print(f\"training {name} model\")\n",
    "    model = SARIMAX(train_df[\"count\"], order=order, seasonal_order=seasonal_order)\n",
    "    model_fit = model.fit()\n",
    "    joblib.dump(model_fit, f'../models/sarimax_{name}.joblib')\n",
    "    # Print model summary\n",
    "    print(model_fit.summary())\n",
    "    # Make predictions\n",
    "    print(f\"Predicting {name} model\")\n",
    "    test_predictions = model_fit.predict(start=test_df.index[0], end=test_df.index[-1], dynamic=False)\n",
    "    test_df['y_pred'] = test_predictions\n",
    "    test_df.to_csv(f'../data/predictions/sarimax_{name}.csv')\n",
    "    rmse = root_mean_squared_error(test_df[\"count\"], test_predictions)\n",
    "    print(f\"{name} RMSE: {rmse}\")"
   ]
  }
 ],
 "metadata": {
  "kernelspec": {
   "display_name": ".venv",
   "language": "python",
   "name": "python3"
  },
  "language_info": {
   "codemirror_mode": {
    "name": "ipython",
    "version": 3
   },
   "file_extension": ".py",
   "mimetype": "text/x-python",
   "name": "python",
   "nbconvert_exporter": "python",
   "pygments_lexer": "ipython3",
   "version": "3.10.9"
  }
 },
 "nbformat": 4,
 "nbformat_minor": 2
}
