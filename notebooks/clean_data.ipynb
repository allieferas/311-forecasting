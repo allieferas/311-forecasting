{
 "cells": [
  {
   "cell_type": "markdown",
   "metadata": {},
   "source": [
    "#### Clean 311 Data - England, John\n",
    "---\n",
    "311 Repository: https://andrew-friedman.github.io/jkan/datasets/\n",
    "\n",
    "The functions in the notebook below were used to clean the 311 datasets from the following cities:\n",
    "- Buffalo, NY\n",
    "- Kansas City, MO\n",
    "- Austin, TX"
   ]
  },
  {
   "cell_type": "markdown",
   "metadata": {},
   "source": [
    "#### Buffalo, NY: July 2008 - present"
   ]
  },
  {
   "cell_type": "markdown",
   "metadata": {},
   "source": [
    "(https://data.buffalony.gov/Quality-of-Life/311-Service-Requests/whkc-e5vr/about_data)"
   ]
  },
  {
   "cell_type": "code",
   "execution_count": null,
   "metadata": {},
   "outputs": [],
   "source": [
    "import pandas as pd\n",
    "\n",
    "# Define Function to Clean Buffalo 311 Data\n",
    "def clean_buffalo(input_path='../data/buffalo.csv', output_path='../data/buffalo_cleaned.csv'):\n",
    "    try:\n",
    "        # Load Data\n",
    "        df = pd.read_csv(input_path)\n",
    "\n",
    "        # Streamline Data Transformation\n",
    "        # Selecting desired features, renaming, and converting datatypes\n",
    "        df = df[['Open Date', 'Closed Date', 'Subject']]\n",
    "        df.rename(columns={'Open Date': 'open_date', 'Closed Date': 'closed_date', 'Subject': 'department'}, inplace=True)\n",
    "        df['open_date'] = pd.to_datetime(df['open_date'])\n",
    "        df['closed_date'] = pd.to_datetime(df['closed_date'])\n",
    "\n",
    "        # Handling Missing Data\n",
    "        df.dropna(subset=['open_date','closed_date','department'], inplace=True)\n",
    "\n",
    "        # Add constant column\n",
    "        df['city'] = 'Buffalo'\n",
    "\n",
    "        # Save Cleaned Dataframe\n",
    "        df.to_csv(output_path, index=False)\n",
    "\n",
    "    except Exception as e:\n",
    "        print(f\"An error occurred: {e}\")\n",
    "\n",
    "# Function Call\n",
    "clean_buffalo()"
   ]
  },
  {
   "cell_type": "markdown",
   "metadata": {},
   "source": [
    "#### Baltimore, MD: 2003 - Current"
   ]
  },
  {
   "cell_type": "markdown",
   "metadata": {},
   "source": [
    "https://data.baltimorecity.gov/City-Services/311-Customer-Service-Requests/9agw-sxsr"
   ]
  },
  {
   "cell_type": "code",
   "execution_count": 28,
   "metadata": {},
   "outputs": [
    {
     "name": "stderr",
     "output_type": "stream",
     "text": [
      "/var/folders/32/h_9nbrl13s73c2_31mnv0cdm0000gn/T/ipykernel_56914/2594871866.py:7: DtypeWarning: Columns (17,21) have mixed types. Specify dtype option on import or set low_memory=False.\n",
      "  df = pd.read_csv(input_path)\n"
     ]
    }
   ],
   "source": [
    "import pandas as pd\n",
    "\n",
    "# Define Function to Clean Buffalo 311 Data\n",
    "def clean_baltimore(input_path='../data/baltimore.csv', output_path='../data/baltimore_cleaned.csv'):\n",
    "    try:\n",
    "        # Load Data\n",
    "        df = pd.read_csv(input_path)\n",
    "\n",
    "        # Streamline Data Transformation\n",
    "        # Selecting desired features, renaming, and converting datatypes\n",
    "        df = df[['CreatedDate', 'CloseDate', 'Agency']]\n",
    "        df.rename(columns={'CreatedDate': 'open_date', 'CloseDate': 'closed_date', 'Agency': 'department'}, inplace=True)\n",
    "        df['open_date'] = pd.to_datetime(df['open_date'])\n",
    "        df['closed_date'] = pd.to_datetime(df['closed_date'])\n",
    "\n",
    "        # Handling Missing Data\n",
    "        df.dropna(subset=['open_date','closed_date','department'], inplace=True)\n",
    "\n",
    "        # Add constant column\n",
    "        df['city'] = 'Baltimore'\n",
    "\n",
    "        # Save Cleaned Dataframe\n",
    "        df.to_csv(output_path, index=False)\n",
    "    \n",
    "    except Exception as e:\n",
    "        print(f\"An error occurred: {e}\")\n",
    "\n",
    "clean_baltimore()"
   ]
  },
  {
   "cell_type": "markdown",
   "metadata": {},
   "source": [
    "#### Kansas CIty, MO 311 Call Center Service Requests: 2007 - March 2021\n",
    "\n"
   ]
  },
  {
   "cell_type": "markdown",
   "metadata": {},
   "source": [
    "(https://data.kcmo.org/311/311-Call-Center-Service-Requests-2007-March-2021/7at3-sxhp/about_data)"
   ]
  },
  {
   "cell_type": "code",
   "execution_count": null,
   "metadata": {},
   "outputs": [],
   "source": [
    "### Export Server Error when obtaining data."
   ]
  },
  {
   "cell_type": "markdown",
   "metadata": {},
   "source": [
    "#### Austin, TX 311 Call Center Requests: 01/03/2014 - Present"
   ]
  },
  {
   "cell_type": "markdown",
   "metadata": {},
   "source": [
    "https://data.austintexas.gov/Utilities-and-City-Services/Austin-311-Public-Data/xwdj-i9he/about_data"
   ]
  },
  {
   "cell_type": "code",
   "execution_count": null,
   "metadata": {},
   "outputs": [],
   "source": [
    "### Department Column N/A"
   ]
  }
 ],
 "metadata": {
  "kernelspec": {
   "display_name": "Python 3",
   "language": "python",
   "name": "python3"
  },
  "language_info": {
   "codemirror_mode": {
    "name": "ipython",
    "version": 3
   },
   "file_extension": ".py",
   "mimetype": "text/x-python",
   "name": "python",
   "nbconvert_exporter": "python",
   "pygments_lexer": "ipython3",
   "version": "3.11.5"
  }
 },
 "nbformat": 4,
 "nbformat_minor": 2
}
