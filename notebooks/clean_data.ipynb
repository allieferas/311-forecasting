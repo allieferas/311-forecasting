{
 "cells": [
  {
   "cell_type": "markdown",
   "metadata": {},
   "source": [
    "#### Clean 311 Data - England, John\n",
    "---\n",
    "The functions in the notebook below were used to clean the 311 datasets from the following cities:\n",
    "- Buffalo, NY"
   ]
  },
  {
   "cell_type": "markdown",
   "metadata": {},
   "source": [
    "#### 311 Buffalo, NY"
   ]
  },
  {
   "cell_type": "code",
   "execution_count": null,
   "metadata": {},
   "outputs": [],
   "source": [
    "# Define Function to Clean Buffalo 311 Data\n",
    "def clean_buffalo():\n",
    "\n",
    "    # Import Libraries\n",
    "    import pandas as pd\n",
    "\n",
    "    # Load Data\n",
    "    df  = pd.read_csv('../data/buffalo.csv')\n",
    "\n",
    "    # Query Features\n",
    "    df = df[['Open Date','Closed Date','Subject']]\n",
    "\n",
    "    # Rename & Convert Time Features to Datetime \n",
    "    df['open_date'] = pd.to_datetime(df['Open Date'])\n",
    "    df['closed_date'] = pd.to_datetime(df['Closed Date'])\n",
    "\n",
    "    # Rename Subject feature to department\n",
    "    df.rename(columns={'Subject': 'department'}, inplace=True)\n",
    "\n",
    "    # Overwrite DataFrame w/ Desired Features (To Drop 'Open Date' and 'Close Date' Features)\n",
    "    df = df[['open_date','closed_date','department']]\n",
    "\n",
    "    # Count of Rows with No Close Date and Drop Rows\n",
    "    nat_count = df['closed_date'].isna().sum()\n",
    "    df = df.dropna(subset=['closed_date'])\n",
    "\n",
    "    # Add City Variable \"Buffalo\" to All Rows\n",
    "    df['city'] = 'Buffalo'\n",
    "\n",
    "    # Save Dataframe \n",
    "    df.to_csv('../data/buffalo_cleaned.csv', index=False)\n",
    "\n",
    "# Function Call\n",
    "clean_buffalo()"
   ]
  }
 ],
 "metadata": {
  "kernelspec": {
   "display_name": "Python 3",
   "language": "python",
   "name": "python3"
  },
  "language_info": {
   "codemirror_mode": {
    "name": "ipython",
    "version": 3
   },
   "file_extension": ".py",
   "mimetype": "text/x-python",
   "name": "python",
   "nbconvert_exporter": "python",
   "pygments_lexer": "ipython3",
   "version": "3.11.5"
  }
 },
 "nbformat": 4,
 "nbformat_minor": 2
}
