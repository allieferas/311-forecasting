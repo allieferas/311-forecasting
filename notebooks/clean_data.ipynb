{
 "cells": [
  {
   "cell_type": "markdown",
   "metadata": {},
   "source": [
    "#### Clean 311 Data - England, John\n",
    "---\n",
    "311 Repository: https://andrew-friedman.github.io/jkan/datasets/\n",
    "\n",
    "The following cities were checked to see if their data can be used in this project: (O = Can Be Used, X = Can Not Be Used)\n",
    "- Buffalo, NY (O)\n",
    "- Kansas City, MO (X)\n",
    "- Austin, TX (X)\n",
    "- Baltimore, MD (O)\n",
    "- Boston, MA (O)\n"
   ]
  },
  {
   "cell_type": "markdown",
   "metadata": {},
   "source": [
    "#### Buffalo, NY: July 2008 - present"
   ]
  },
  {
   "cell_type": "markdown",
   "metadata": {},
   "source": [
    "(https://data.buffalony.gov/Quality-of-Life/311-Service-Requests/whkc-e5vr/about_data)"
   ]
  },
  {
   "cell_type": "code",
   "execution_count": null,
   "metadata": {},
   "outputs": [],
   "source": [
    "import pandas as pd\n",
    "\n",
    "# Define Function to Clean Buffalo 311 Data\n",
    "def clean_buffalo(input_path='../data/buffalo.csv', output_path='../data/buffalo_cleaned.csv'):\n",
    "    try:\n",
    "        # Load Data\n",
    "        df = pd.read_csv(input_path)\n",
    "\n",
    "        # Streamline Data Transformation\n",
    "        # Selecting desired features, renaming, and converting datatypes\n",
    "        df = df[['Open Date', 'Closed Date', 'Subject']]\n",
    "        df.rename(columns={'Open Date': 'open_date', 'Closed Date': 'closed_date', 'Subject': 'department'}, inplace=True)\n",
    "        df['open_date'] = pd.to_datetime(df['open_date'])\n",
    "        df['closed_date'] = pd.to_datetime(df['closed_date'])\n",
    "\n",
    "        # Handling Missing Data\n",
    "        df.dropna(subset=['open_date','closed_date','department'], inplace=True)\n",
    "\n",
    "        # Add constant column\n",
    "        df['city'] = 'Buffalo'\n",
    "\n",
    "        # Save Cleaned Dataframe\n",
    "        df.to_csv(output_path, index=False)\n",
    "\n",
    "    except Exception as e:\n",
    "        print(f\"An error occurred: {e}\")\n",
    "\n",
    "# Function Call\n",
    "clean_buffalo()"
   ]
  },
  {
   "cell_type": "markdown",
   "metadata": {},
   "source": [
    "#### Baltimore, MD: 2003 - Current"
   ]
  },
  {
   "cell_type": "markdown",
   "metadata": {},
   "source": [
    "https://data.baltimorecity.gov/City-Services/311-Customer-Service-Requests/9agw-sxsr"
   ]
  },
  {
   "cell_type": "code",
   "execution_count": 28,
   "metadata": {},
   "outputs": [
    {
     "name": "stderr",
     "output_type": "stream",
     "text": [
      "/var/folders/32/h_9nbrl13s73c2_31mnv0cdm0000gn/T/ipykernel_56914/2594871866.py:7: DtypeWarning: Columns (17,21) have mixed types. Specify dtype option on import or set low_memory=False.\n",
      "  df = pd.read_csv(input_path)\n"
     ]
    }
   ],
   "source": [
    "import pandas as pd\n",
    "\n",
    "# Define Function to Clean Buffalo 311 Data\n",
    "def clean_baltimore(input_path='../data/baltimore.csv', output_path='../data/baltimore_cleaned.csv'):\n",
    "    try:\n",
    "        # Load Data\n",
    "        df = pd.read_csv(input_path)\n",
    "\n",
    "        # Streamline Data Transformation\n",
    "        # Selecting desired features, renaming, and converting datatypes\n",
    "        df = df[['CreatedDate', 'CloseDate', 'Agency']]\n",
    "        df.rename(columns={'CreatedDate': 'open_date', 'CloseDate': 'closed_date', 'Agency': 'department'}, inplace=True)\n",
    "        df['open_date'] = pd.to_datetime(df['open_date'])\n",
    "        df['closed_date'] = pd.to_datetime(df['closed_date'])\n",
    "\n",
    "        # Handling Missing Data\n",
    "        df.dropna(subset=['open_date','closed_date','department'], inplace=True)\n",
    "\n",
    "        # Add constant column\n",
    "        df['city'] = 'Baltimore'\n",
    "\n",
    "        # Save Cleaned Dataframe\n",
    "        df.to_csv(output_path, index=False)\n",
    "    \n",
    "    except Exception as e:\n",
    "        print(f\"An error occurred: {e}\")\n",
    "\n",
    "clean_baltimore()"
   ]
  },
  {
   "cell_type": "markdown",
   "metadata": {},
   "source": [
    "#### Boston, MA: 2011 - 2024"
   ]
  },
  {
   "cell_type": "markdown",
   "metadata": {},
   "source": [
    "https://data.boston.gov/dataset/311-service-requests"
   ]
  },
  {
   "cell_type": "code",
   "execution_count": 6,
   "metadata": {},
   "outputs": [
    {
     "name": "stderr",
     "output_type": "stream",
     "text": [
      "/var/folders/32/h_9nbrl13s73c2_31mnv0cdm0000gn/T/ipykernel_57505/3650790853.py:7: DtypeWarning: Columns (13) have mixed types. Specify dtype option on import or set low_memory=False.\n",
      "  df = pd.read_csv(input_path)\n"
     ]
    }
   ],
   "source": [
    "import pandas as pd\n",
    "\n",
    "# Define Function to Clean Buffalo 311 Data\n",
    "def clean_boston(input_path='../data/boston.csv', output_path='../data/boston_cleaned.csv'):\n",
    "    try:\n",
    "        # Load Data\n",
    "        df = pd.read_csv(input_path)\n",
    "\n",
    "        # Streamline Data Transformation\n",
    "        # Selecting desired features, renaming, and converting datatypes\n",
    "        df = df[['open_dt', 'closed_dt', 'subject']]\n",
    "        df.rename(columns={'open_dt': 'open_date', 'closed_dt': 'closed_date', 'subject': 'department'}, inplace=True)\n",
    "        df['open_date'] = pd.to_datetime(df['open_date'])\n",
    "        df['closed_date'] = pd.to_datetime(df['closed_date'])\n",
    "\n",
    "        # Handling Missing Data\n",
    "        df.dropna(subset=['open_date','closed_date','department'], inplace=True)\n",
    "\n",
    "        # Add constant column\n",
    "        df['city'] = 'Boston'\n",
    "\n",
    "        # Save Cleaned Dataframe\n",
    "        df.to_csv(output_path, index=False)\n",
    "\n",
    "    except Exception as e:\n",
    "        print(f\"An error occurred: {e}\")\n",
    "\n",
    "clean_boston()\n"
   ]
  },
  {
   "cell_type": "code",
   "execution_count": 5,
   "metadata": {},
   "outputs": [
    {
     "data": {
      "text/html": [
       "<div>\n",
       "<style scoped>\n",
       "    .dataframe tbody tr th:only-of-type {\n",
       "        vertical-align: middle;\n",
       "    }\n",
       "\n",
       "    .dataframe tbody tr th {\n",
       "        vertical-align: top;\n",
       "    }\n",
       "\n",
       "    .dataframe thead th {\n",
       "        text-align: right;\n",
       "    }\n",
       "</style>\n",
       "<table border=\"1\" class=\"dataframe\">\n",
       "  <thead>\n",
       "    <tr style=\"text-align: right;\">\n",
       "      <th></th>\n",
       "      <th>open_date</th>\n",
       "      <th>closed_date</th>\n",
       "      <th>department</th>\n",
       "      <th>city</th>\n",
       "    </tr>\n",
       "  </thead>\n",
       "  <tbody>\n",
       "    <tr>\n",
       "      <th>0</th>\n",
       "      <td>2023-11-30 09:17:00</td>\n",
       "      <td>2023-11-30 23:34:48</td>\n",
       "      <td>Public Works Department</td>\n",
       "      <td>Boston</td>\n",
       "    </tr>\n",
       "    <tr>\n",
       "      <th>1</th>\n",
       "      <td>2023-12-02 17:53:40</td>\n",
       "      <td>2023-12-03 04:26:55</td>\n",
       "      <td>Public Works Department</td>\n",
       "      <td>Boston</td>\n",
       "    </tr>\n",
       "    <tr>\n",
       "      <th>2</th>\n",
       "      <td>2023-11-30 09:12:55</td>\n",
       "      <td>2023-11-30 09:33:07</td>\n",
       "      <td>Public Works Department</td>\n",
       "      <td>Boston</td>\n",
       "    </tr>\n",
       "    <tr>\n",
       "      <th>4</th>\n",
       "      <td>2023-11-30 09:23:00</td>\n",
       "      <td>2023-12-19 11:15:33</td>\n",
       "      <td>Public Works Department</td>\n",
       "      <td>Boston</td>\n",
       "    </tr>\n",
       "    <tr>\n",
       "      <th>5</th>\n",
       "      <td>2023-11-30 10:09:00</td>\n",
       "      <td>2023-12-01 06:46:30</td>\n",
       "      <td>Transportation - Traffic Division</td>\n",
       "      <td>Boston</td>\n",
       "    </tr>\n",
       "    <tr>\n",
       "      <th>...</th>\n",
       "      <td>...</td>\n",
       "      <td>...</td>\n",
       "      <td>...</td>\n",
       "      <td>...</td>\n",
       "    </tr>\n",
       "    <tr>\n",
       "      <th>313220</th>\n",
       "      <td>2023-01-11 18:25:00</td>\n",
       "      <td>2023-02-06 02:37:31</td>\n",
       "      <td>Public Works Department</td>\n",
       "      <td>Boston</td>\n",
       "    </tr>\n",
       "    <tr>\n",
       "      <th>313221</th>\n",
       "      <td>2023-01-11 10:51:21</td>\n",
       "      <td>2023-01-11 21:31:32</td>\n",
       "      <td>Public Works Department</td>\n",
       "      <td>Boston</td>\n",
       "    </tr>\n",
       "    <tr>\n",
       "      <th>313222</th>\n",
       "      <td>2023-01-11 19:44:51</td>\n",
       "      <td>2023-01-12 01:15:45</td>\n",
       "      <td>Public Works Department</td>\n",
       "      <td>Boston</td>\n",
       "    </tr>\n",
       "    <tr>\n",
       "      <th>313223</th>\n",
       "      <td>2023-01-11 20:08:12</td>\n",
       "      <td>2023-01-13 11:30:41</td>\n",
       "      <td>Public Works Department</td>\n",
       "      <td>Boston</td>\n",
       "    </tr>\n",
       "    <tr>\n",
       "      <th>313225</th>\n",
       "      <td>2023-01-11 13:39:07</td>\n",
       "      <td>2023-01-18 11:30:42</td>\n",
       "      <td>Public Works Department</td>\n",
       "      <td>Boston</td>\n",
       "    </tr>\n",
       "  </tbody>\n",
       "</table>\n",
       "<p>283359 rows × 4 columns</p>\n",
       "</div>"
      ],
      "text/plain": [
       "                 open_date         closed_date  \\\n",
       "0      2023-11-30 09:17:00 2023-11-30 23:34:48   \n",
       "1      2023-12-02 17:53:40 2023-12-03 04:26:55   \n",
       "2      2023-11-30 09:12:55 2023-11-30 09:33:07   \n",
       "4      2023-11-30 09:23:00 2023-12-19 11:15:33   \n",
       "5      2023-11-30 10:09:00 2023-12-01 06:46:30   \n",
       "...                    ...                 ...   \n",
       "313220 2023-01-11 18:25:00 2023-02-06 02:37:31   \n",
       "313221 2023-01-11 10:51:21 2023-01-11 21:31:32   \n",
       "313222 2023-01-11 19:44:51 2023-01-12 01:15:45   \n",
       "313223 2023-01-11 20:08:12 2023-01-13 11:30:41   \n",
       "313225 2023-01-11 13:39:07 2023-01-18 11:30:42   \n",
       "\n",
       "                               department    city  \n",
       "0                 Public Works Department  Boston  \n",
       "1                 Public Works Department  Boston  \n",
       "2                 Public Works Department  Boston  \n",
       "4                 Public Works Department  Boston  \n",
       "5       Transportation - Traffic Division  Boston  \n",
       "...                                   ...     ...  \n",
       "313220            Public Works Department  Boston  \n",
       "313221            Public Works Department  Boston  \n",
       "313222            Public Works Department  Boston  \n",
       "313223            Public Works Department  Boston  \n",
       "313225            Public Works Department  Boston  \n",
       "\n",
       "[283359 rows x 4 columns]"
      ]
     },
     "execution_count": 5,
     "metadata": {},
     "output_type": "execute_result"
    }
   ],
   "source": [
    "df"
   ]
  },
  {
   "cell_type": "markdown",
   "metadata": {},
   "source": [
    "#### Kansas CIty, MO 2007 - March 2021\n",
    "\n"
   ]
  },
  {
   "cell_type": "markdown",
   "metadata": {},
   "source": [
    "(https://data.kcmo.org/311/311-Call-Center-Service-Requests-2007-March-2021/7at3-sxhp/about_data)"
   ]
  },
  {
   "cell_type": "code",
   "execution_count": null,
   "metadata": {},
   "outputs": [],
   "source": [
    "### Export Server Error when obtaining data."
   ]
  },
  {
   "cell_type": "markdown",
   "metadata": {},
   "source": [
    "#### Austin, TX 01/03/2014 - Present"
   ]
  },
  {
   "cell_type": "markdown",
   "metadata": {},
   "source": [
    "https://data.austintexas.gov/Utilities-and-City-Services/Austin-311-Public-Data/xwdj-i9he/about_data"
   ]
  },
  {
   "cell_type": "code",
   "execution_count": null,
   "metadata": {},
   "outputs": [],
   "source": [
    "### Department Column N/A"
   ]
  }
 ],
 "metadata": {
  "kernelspec": {
   "display_name": "Python 3",
   "language": "python",
   "name": "python3"
  },
  "language_info": {
   "codemirror_mode": {
    "name": "ipython",
    "version": 3
   },
   "file_extension": ".py",
   "mimetype": "text/x-python",
   "name": "python",
   "nbconvert_exporter": "python",
   "pygments_lexer": "ipython3",
   "version": "3.11.5"
  }
 },
 "nbformat": 4,
 "nbformat_minor": 2
}
